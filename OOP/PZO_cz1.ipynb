{
  "cells": [
    {
      "cell_type": "markdown",
      "metadata": {
        "id": "TFRQhW3kFjN7"
      },
      "source": [
        "# Algorytmy i programowanie\n",
        "\n",
        "## Progamowanie zorientowane obiektowo (PZO), część 1\n",
        "\n",
        "Wprowadzenie do PZO. \n",
        "Dobrze jest znaleźć jakąś ciekawą książkę (kurs on-line) opisującą PZO dla języka Python (jP), która skupi się nieco na teorii i poczytać. Tutaj będziemy zajmować się PZO bezpośrednio.\n",
        "\n",
        "> **Uwaga 1** treść z gwiazdką `*` jest ponadpodstawowa"
      ]
    },
    {
      "cell_type": "code",
      "execution_count": null,
      "metadata": {
        "id": "opsSK0pbFjN_"
      },
      "outputs": [],
      "source": []
    },
    {
      "cell_type": "markdown",
      "metadata": {
        "id": "dvdyHGHHFjOA"
      },
      "source": [
        "### Obiekt i jego klasa\n",
        "**Klasa** - częściowa lub całkowita **definicja dla obiektów**. Definicja obejmuje dopuszczalny **stan obiektów** oraz ich **zachowania**. W jP klasę definiujemy za pomocą słowa `class`, po którym podajemy nazwę w konwencji [PascalCase](https://pl.wikipedia.org/wiki/PascalCase) (PEP8), a następnie mamy do wyboru - albo dajemy po prostu dwukropek, albo dajemy nawias, gdzie podajemy nazwę klasy nadrzędnej (o tym na kolejnej lekcji). Jeżeli budujemy klasę od zera to podajemy tam `object`. Poniższe definicje klasy `NazwaKlasy` są równoważne."
      ]
    },
    {
      "cell_type": "code",
      "execution_count": null,
      "metadata": {
        "id": "HiOWZeqfFjOA"
      },
      "outputs": [],
      "source": [
        "class NazwaKlasy:\n",
        "    \"\"\"docstring\"\"\"\n",
        "    pass\n",
        "\n",
        "\n",
        "class NazwaKlasy(object):\n",
        "    \"\"\"docstring\"\"\"\n",
        "    pass"
      ]
    },
    {
      "cell_type": "markdown",
      "metadata": {
        "id": "bmqwLDVtFjOB"
      },
      "source": [
        "# Studium przypadku 1 - Gruszka\n",
        "\n",
        "Jak wyżej napisano - klasa definiuje stan i zachowania obiektów. Możemy sobie za jej pomocą opisać jakie dany obiekt ma własności oraz co z nim można zrobić. Typowym przykładem obiektu może być cokolwiek ;) np: gruszka. Gruszkę taką możemy opisać mówiąc o jej odmianie, kolorze (który wiąże się z odmianą), wadze, wielkości (ta wiąże się z wagą), smaku (słodki, kwaśny...). Napiszmy klasę `Gruszka`, żeby zobrazować ideę"
      ]
    },
    {
      "cell_type": "code",
      "execution_count": null,
      "metadata": {
        "id": "DQuwMZHeFjOC"
      },
      "outputs": [],
      "source": [
        "class Gruszka:\n",
        "    '''Obiekt Gruszka opisuje nam wlasnosci gruszek.\n",
        "    \n",
        "    Dzieki obiektom Gruszka można skatalogować gruszki z naszego ogrodu.\n",
        "    Aby poprawnie opisać gruszki, trzeba podać ich odmianę (str),\n",
        "    wagę (num) oraz smak (str).\n",
        "\n",
        "    Args:\n",
        "        odmiana (str): trzyma odmiane owocu \n",
        "        waga (num): trzyma wage gruszek\n",
        "        smak (str): opisuje smak gruszek (slodki, kwasny, itd.)\n",
        "\n",
        "    Attributes:\n",
        "        odmiana: tu przechowujemy informacje o odmianie \n",
        "        waga: tu przechowujemy informacje o wadze\n",
        "        smak: tu przechowujemy informacje o smaku\n",
        "    '''\n",
        "    \n",
        "    def __init__(self, odmiana, waga, smak):\n",
        "        self.odmiana = odmiana\n",
        "        self.waga = waga\n",
        "        self.smak = smak\n",
        "        \n",
        "    def waga_plus_jeden(k):\n",
        "        '''Funkcja \n",
        "        '''\n",
        "        print(k.waga + 1)"
      ]
    },
    {
      "cell_type": "markdown",
      "metadata": {
        "id": "If261YM2FjOD"
      },
      "source": [
        "W ten sposób zbudowaliśmy klasę opisującą gruszki. \n",
        "\n",
        "> Zanim krok dalej krótkie wtrącenie o budowaniu dokumentacji. W ogólności jak budować dokumentację jest opisane w *PEP 257*, niemniej jednak istnieją 3 najbardziej popularne konwencje budowania dokumentacji do obiektów w jP, style Pydoc/Sphinx, Google, Numpy/Scipy i Epydoc. Ta powyższa to **styl Google**. Możecie dokładnie o niej poczytać tutaj: [styl dokumentacji Google](http://google.github.io/styleguide/pyguide.html). Zobacz też zadanie domowe *PD03X*.\n",
        "\n",
        "W kolejnych lekcjach wprowadzę pozostałe."
      ]
    },
    {
      "cell_type": "markdown",
      "metadata": {
        "id": "zpSDuYjTFjOE"
      },
      "source": [
        "Nie można nic ciekawego z tą klasą na razie zrobić, ale zbudowaliśmy klasę, będącą definicją **obiektu** który możemy stworzyć. Stwórzmy sobie taki obiekt"
      ]
    },
    {
      "cell_type": "code",
      "execution_count": null,
      "metadata": {
        "id": "sY83xwH3FjOE"
      },
      "outputs": [],
      "source": [
        "gruszka1 = Gruszka('General Leclerc', 130, 'kwaskowato-slodka')"
      ]
    },
    {
      "cell_type": "markdown",
      "metadata": {
        "id": "XTpJx7t5FjOF"
      },
      "source": [
        "Mamy obiekt `gruszka1`. Jeżeli potraktujem klasę jak wzorzec (pieczątkę), który należy wypełnić, to obiekt `gruszka1` będzie właśnie wypełnieniem takiego wzorca klasy `Gruszka`, ale **z konkretnymi wartościami (argumentami)** podanymi do parametrów formalnych klasy. W tym przypadku\n",
        "\n",
        "    odmiana <- 'General Leclerc'\n",
        "    waga <- 130\n",
        "    smak <- 'kwaskowato-slodka'\n",
        "    \n",
        "Taką **skonkretyzowany wzorzec klasy** będziemy nazywać **instancją klasy** lub po prostu **instancją**. Instancja taka posiada swoje **atrybuty**: `odmiana`, `waga` i `smak`, które są w tym przypadku tożsame z **atrybutami klasy**. Możemy się do nich odwołać, tak jak do zwykłych zmiennych (bo też są zmiennymi) za pomocą *notacji z kropką*"
      ]
    },
    {
      "cell_type": "code",
      "execution_count": null,
      "metadata": {
        "id": "FqejrNvcFjOF",
        "outputId": "a076e739-1c7a-45e1-aefc-d6895d4f9694"
      },
      "outputs": [
        {
          "data": {
            "text/plain": [
              "'General Leclerc'"
            ]
          },
          "execution_count": 4,
          "metadata": {},
          "output_type": "execute_result"
        }
      ],
      "source": [
        "gruszka1.odmiana"
      ]
    },
    {
      "cell_type": "code",
      "execution_count": null,
      "metadata": {
        "id": "0bHKlqUqFjOG",
        "outputId": "d383499c-26b7-423a-d9f3-26cf5800af24"
      },
      "outputs": [
        {
          "data": {
            "text/plain": [
              "str"
            ]
          },
          "execution_count": 5,
          "metadata": {},
          "output_type": "execute_result"
        }
      ],
      "source": [
        "type(gruszka1.odmiana)"
      ]
    },
    {
      "cell_type": "markdown",
      "metadata": {
        "id": "yPdd1scwFjOH"
      },
      "source": [
        "Możemy z nimi robić to, co zazwyczaj można robić ze zmiennymi o danym typie. W szczególności przypisać do atrybutu zupełnie inny obiekt."
      ]
    },
    {
      "cell_type": "code",
      "execution_count": null,
      "metadata": {
        "id": "8cL9OPMpFjOH",
        "outputId": "fcc69504-19ec-488d-b354-5e22acf11594"
      },
      "outputs": [
        {
          "name": "stdout",
          "output_type": "stream",
          "text": [
            "*3: General LeclercGeneral LeclercGeneral Leclerc\n",
            "[8:]: Leclerc\n",
            "Nowy typ: Komisówka\n"
          ]
        }
      ],
      "source": [
        "print(\"*3:\", gruszka1.odmiana * 3)\n",
        "print(\"[8:]:\", gruszka1.odmiana[8:])\n",
        "\n",
        "gruszka1.odmiana = \"Komisówka\"\n",
        "print('Nowy typ:', gruszka1.odmiana)"
      ]
    },
    {
      "cell_type": "markdown",
      "metadata": {
        "id": "KLkzyyPtFjOH"
      },
      "source": [
        "**Jeżeli czytacie ten dokument sami:** \n",
        "proszę zrobić zadanie domowe PD0301 (`is_aip_pd03.ipynb`)."
      ]
    },
    {
      "cell_type": "code",
      "execution_count": null,
      "metadata": {
        "id": "_hrv8HhrFjOI",
        "outputId": "e35404cd-5171-4669-bb59-4ec1e44d8fe0"
      },
      "outputs": [
        {
          "name": "stdout",
          "output_type": "stream",
          "text": [
            "131\n"
          ]
        }
      ],
      "source": [
        "gruszka1.waga_plus_jeden()"
      ]
    },
    {
      "cell_type": "code",
      "execution_count": null,
      "metadata": {
        "id": "P0J0FRa5FjOI"
      },
      "outputs": [],
      "source": []
    },
    {
      "cell_type": "markdown",
      "metadata": {
        "id": "JB5OcloLFjOI"
      },
      "source": [
        "### Ćwiczenie 1\n",
        "Na bazie klasy `Gruszka` proszę stworzyć cztery proste klasy uwzględniając podane atrybuty.\n",
        "\n",
        "1. klasa `Orzech`: odmiana (str), rozmiar (num), cena (num)\n",
        "2. klasa `Motor`: marka (str), pojemnosc (num), KM (int)\n",
        "3. klasa `Kot`: rasa (str), umaszczenie (str), imie (str)\n",
        "4. klasa `Ksiazka`: tytul (str), autor (str), rok_wydania (int)\n",
        "5. klasa `Kubek`: pojemność (num), materiał (str), kolor (str)\n",
        "6. klasa `Obraz`: autor (str), technika (str), autor (str)\n",
        "\n",
        "Podzielić powyższe klasy na studentów lub wymyslić inne dodatkowe."
      ]
    },
    {
      "cell_type": "code",
      "execution_count": null,
      "metadata": {
        "id": "6SABqn-fFjOI"
      },
      "outputs": [],
      "source": []
    },
    {
      "cell_type": "code",
      "execution_count": null,
      "metadata": {
        "id": "RUf_UpnIFjOJ"
      },
      "outputs": [],
      "source": []
    },
    {
      "cell_type": "markdown",
      "metadata": {
        "id": "oVUH9NjnFjOJ"
      },
      "source": [
        "### `__init___`\n",
        "Łatwo zauważyć, że to właśnie *funkcja specjalna* `__init__` służy do przechwytywania argumentów służących do instancjonowania klasy `Gruszka`. Takich funkcji specjalnych jest dużo, dwie inne poznacie w pracy domowej, resztę zostawimy na później. Aby móc użyć argumentów w dowolnym miejscu w klasie (obiekcie) musimy przypisac je do **atrybutów**. Atrybuty można podzielić na atrybuty klasy i instancji. Te należące do instancji zaczynają się w klasie od przedrostka `self.`. \n",
        "\n",
        "### `self`\n",
        "Nazwa `self` od której **musi** rozpoczynać się każda funkcja występująca w ciele klasy, jest po prostu reprezenatcją instancji (tu ciut kłamię - nie każda funkcja musi, ale na razie tak to zostawmy). Innymi słowy w naszym przykładzie\n",
        "\n",
        "    gruszka1 = Gruszka('General Leclerc', 130, 'kwaskowato-slodka')\n",
        "    \n",
        "w środku klasy `self` zamienia się magicznie na `gruszka1`. Ten cały self nie musi nazwyać się `self`, może nazywoać się dowolnie - patrz plik `is19_aip_w03_katarzyna.ipynb` na classroom wykładu AiP. Nam wystarczy info, że jest to **zmienna reprezentująca instancję w środku klasy**. Aby odwołać się do dowolnego atrybutu instancji, musimy w klasie poprzedzić ten atrybut właśnie zmienną `self` i odwołaniem poprzez kropkę. "
      ]
    },
    {
      "cell_type": "code",
      "execution_count": null,
      "metadata": {
        "id": "6bPI5XS2FjOJ"
      },
      "outputs": [],
      "source": [
        "class Gruszka:\n",
        "    '''\n",
        "    Obiekt Gruszka opisuje nam wlasnosci gruszek.\n",
        "    \n",
        "    Dzieki obiektom Gruszka można skatalogować gruszki z naszego ogrodu.\n",
        "    Aby poprawnie opisać gruszki, trzeba podać ich odmianę (str),\n",
        "    wagę (num) oraz smak (str).\n",
        "\n",
        "    Args:\n",
        "        odmiana (str): trzyma odmiane owocu \n",
        "        waga (num): trzyma wage gruszek\n",
        "        smak (str): opisuje smak gruszek (slodki, kwasny, itd.)\n",
        "\n",
        "    Attributes:\n",
        "        odmiana: tu przechowujemy informacje o odmianie \n",
        "        waga: tu przechowujemy informacje o wadze\n",
        "        smak: tu przechowujemy informacje o smaku\n",
        "    '''\n",
        "    \n",
        "    def __init__(self, odmiana, waga, smak):\n",
        "        self.odmiana = odmiana\n",
        "        self.waga = waga\n",
        "        self.smak = smak\n",
        "        \n",
        "    def get_waga(self):\n",
        "        return self.waga\n",
        "    \n",
        "    def get_odmiana(self):\n",
        "        return self.odmiana\n",
        "    \n",
        "    def get_smak(self):\n",
        "        return self.smak"
      ]
    },
    {
      "cell_type": "code",
      "execution_count": null,
      "metadata": {
        "id": "C_UKdCyJFjOJ",
        "outputId": "b2e253ca-35bf-44cd-8e89-b975f5f282b4"
      },
      "outputs": [
        {
          "data": {
            "text/plain": [
              "'kwaskowato-slodka'"
            ]
          },
          "execution_count": 10,
          "metadata": {},
          "output_type": "execute_result"
        }
      ],
      "source": [
        "# instancjonowanie\n",
        "gruszka2 = Gruszka('General Leclerc', 130, 'kwaskowato-slodka')\n",
        "\n",
        "# odwołanie do metody get_smak() instancji gruszka2\n",
        "gruszka2.get_smak()"
      ]
    },
    {
      "cell_type": "markdown",
      "metadata": {
        "id": "zH8_Ud0lFjOK"
      },
      "source": [
        "Jak widać funkcję `get_smak()` wywołuje się podobnie jak zwykłą funkcję, ale stoi przed nią nazwa instancji, tutaj `gruszka2`. Proszę zauważyć, że pomimo, iż w ciele klasy `Gruszka` funkcja `get_smak` posiada 1 parametr formalny `self`, to przy wywyłaniu tej funkcji w linii 5 powyżej **nie podajemy do niej żadnego agrumentu**. Jest to typowa notacja (interfejs) do wywołania funkcji które przynależą do instancji. Funkcje takie nazwyamy **metodami**.\n",
        "\n",
        "> **Metoda** jest funkcją związaną z instancją. W szczególności przyjmuje ona o 1 argument mniej od swojego odpowiednika (funkcji) w ciele klasy. Dzieje się tak, ponieważ do argumentu `self` trafia adres instancji  (`gruszka2`) z której wywołujemy metodę. Pozostałe argumenty pojawiają się w wywołaniu tak jak w tradycyjnej funkcji.\n",
        "\n",
        "Znów - magicznie nazwa instancji zostaje podstawiona w klasie pod zmienną `self`.\n",
        "\n",
        "### getter-y\n",
        "Powyższe funkcje nie są napisane przypadkiem. W ogólności nie powinniśmy odwoływac się do atrybutów instancji bezpośrednio przez"
      ]
    },
    {
      "cell_type": "code",
      "execution_count": null,
      "metadata": {
        "id": "MoIvMOA0FjOK",
        "outputId": "a59590ad-f575-45f7-97ea-7671a945aa35"
      },
      "outputs": [
        {
          "name": "stdout",
          "output_type": "stream",
          "text": [
            "Jaki smak ma gruszka?\n",
            "Gruszka jest kwaskowato-slodka\n"
          ]
        }
      ],
      "source": [
        "print(\"Jaki smak ma gruszka?\")\n",
        "print(f\"Gruszka jest {gruszka2.smak}\")"
      ]
    },
    {
      "cell_type": "markdown",
      "metadata": {
        "id": "U3jfomFzFjOK"
      },
      "source": [
        "Powinniśmy używać do tego właśnie owych funkcji `get_atrybut()`"
      ]
    },
    {
      "cell_type": "code",
      "execution_count": null,
      "metadata": {
        "id": "BYZ5jvmwFjOK",
        "outputId": "bd5050d7-da20-4e07-edec-d9c7d6620ebb"
      },
      "outputs": [
        {
          "name": "stdout",
          "output_type": "stream",
          "text": [
            "Jaki smak ma gruszka?\n",
            "Gruszka jest kwaskowato-slodka\n"
          ]
        }
      ],
      "source": [
        "print(\"Jaki smak ma gruszka?\")\n",
        "print(f\"Gruszka jest {gruszka2.get_smak()}\")"
      ]
    },
    {
      "cell_type": "markdown",
      "metadata": {
        "id": "9gAskzDVFjOL"
      },
      "source": [
        "### setter-y\n",
        "Podobnie ze zmianą atrybutów - też powinniśmy używac do tego pewnych specjanych funkcji - **setterów**."
      ]
    },
    {
      "cell_type": "code",
      "execution_count": null,
      "metadata": {
        "id": "zNeBkq3hFjOL"
      },
      "outputs": [],
      "source": [
        "class Gruszka:\n",
        "    '''\n",
        "    Obiekt Gruszka opisuje nam wlasnosci gruszek.\n",
        "    \n",
        "    Dzieki obiektom Gruszka można skatalogować gruszki z naszego ogrodu.\n",
        "    Aby poprawnie opisać gruszki, trzeba podać ich odmianę (str),\n",
        "    wagę (num) oraz smak (str).\n",
        "\n",
        "    Args:\n",
        "        odmiana (str): trzyma odmiane owocu \n",
        "        waga (num): trzyma wage gruszek\n",
        "        smak (str): opisuje smak gruszek (slodki, kwasny, itd.)\n",
        "\n",
        "    Attributes:\n",
        "        odmiana: tu przechowujemy informacje o odmianie \n",
        "        waga: tu przechowujemy informacje o wadze\n",
        "        smak: tu przechowujemy informacje o smaku\n",
        "    '''\n",
        "    \n",
        "    def __init__(self, odmiana, waga, smak):\n",
        "        self.odmiana = odmiana\n",
        "        self.waga = waga\n",
        "        self.smak = smak\n",
        "        \n",
        "    def get_waga(self):\n",
        "        return self.waga\n",
        "    \n",
        "    def get_odmiana(self):\n",
        "        return self.odmiana\n",
        "    \n",
        "    def get_smak(self):\n",
        "        return self.smak\n",
        "    \n",
        "    def set_waga(self, x):\n",
        "        if isinstance(x, (int, float)):\n",
        "            self.waga = x\n",
        "        else:\n",
        "            raise TypeError(\"Waga powinna byc liczba INT lub FLOAT\")\n",
        "    \n",
        "    def set_odmiana(self, x):\n",
        "        if isinstance(x, str):\n",
        "            self.odmiana = x\n",
        "        else:\n",
        "            raise TypeError(\"Zmienna odmiana powinna byc lancuchem znakow STR\")\n",
        "    \n",
        "    def set_smak(self, x):\n",
        "        if isinstance(x, str):\n",
        "            self.smak = x\n",
        "        else:\n",
        "            raise TypeError(\"Zmienna smak powinna byc lancuchem znakow STR\")\n"
      ]
    },
    {
      "cell_type": "code",
      "execution_count": null,
      "metadata": {
        "id": "heCpl2bgFjOL",
        "outputId": "03e4cc36-3386-4547-db6a-62f4f5dcc51f"
      },
      "outputs": [
        {
          "name": "stdout",
          "output_type": "stream",
          "text": [
            "Jaki smak ma gruszka?\n",
            "Gruszka jest kwaskowato-slodka\n",
            "Jaki smak ma gruszka?\n",
            "Gruszka jest wybitnie slodka\n"
          ]
        }
      ],
      "source": [
        "# instancjonowanie\n",
        "gruszka3 = Gruszka('General Leclerc', 330, 'kwaskowato-slodka')\n",
        "\n",
        "# odwołanie do metody get_smak() instancji gruszka3\n",
        "print(\"Jaki smak ma gruszka?\")\n",
        "print(f\"Gruszka jest {gruszka3.get_smak()}\")\n",
        "\n",
        "# ustawienie zmiennej smak za pomoca set_smak(SMAK) dla instancji gruszka3\n",
        "gruszka3.set_smak('wybitnie slodka')\n",
        "\n",
        "print(\"Jaki smak ma gruszka?\")\n",
        "print(f\"Gruszka jest {gruszka3.get_smak()}\")"
      ]
    },
    {
      "cell_type": "markdown",
      "metadata": {
        "id": "GyYgAv7hFjOL"
      },
      "source": [
        "**Jeżeli czytacie ten dokument sami:** \n",
        "proszę zrobić zadanie domowe PD0302 (`is_aip_pd03.ipynb`)."
      ]
    },
    {
      "cell_type": "code",
      "execution_count": null,
      "metadata": {
        "id": "zmz1yfxRFjOM"
      },
      "outputs": [],
      "source": []
    },
    {
      "cell_type": "markdown",
      "metadata": {
        "id": "8ES3LlkfFjOM"
      },
      "source": [
        "### Ćwiczenie 2\n",
        "Dopisz gettery i settery do swojej klasy. Settery zaprogramuj *defensywnie*."
      ]
    },
    {
      "cell_type": "code",
      "execution_count": null,
      "metadata": {
        "id": "qw-b7WwqFjOM"
      },
      "outputs": [],
      "source": []
    },
    {
      "cell_type": "code",
      "execution_count": null,
      "metadata": {
        "id": "H-3j4meAFjOM"
      },
      "outputs": [],
      "source": []
    },
    {
      "cell_type": "markdown",
      "metadata": {
        "id": "vz6qCuVNFjOM"
      },
      "source": [
        "> #### dekorowanie kodu*\n",
        "Poprawne używanie getterów i setterów w jP nastepuje przy użyciu tzw. dekoratorów. Jeżeli chcą Państwo się z nimi zapoznać już, proszę zobaczyć dokument `is_aip_getset.ipynb`. Można też obejrzeć wideo z semestru letniego ra 2020-21 o tej samej nazwie."
      ]
    },
    {
      "cell_type": "code",
      "execution_count": null,
      "metadata": {
        "id": "hAUuKO-VFjOM"
      },
      "outputs": [],
      "source": []
    },
    {
      "cell_type": "markdown",
      "metadata": {
        "id": "7gCStmhKFjOM"
      },
      "source": [
        "## Funkcje specjalne\n",
        "Zaczynają się i kończą dwiema podłogami `__funkcja__`. Znamy już funkcję specjalną `__init__`.\n",
        "\n",
        "\n",
        "### `__str__`\n",
        "Gdy napiszemy w konsoli/komórce\n",
        "```\n",
        "print(100)\n",
        "```\n",
        "to funkcja `print` wyszukuje w obiekcie reprezentacji liczby `100` zrzutowanego na typ `str`. Gdy my napiszemy"
      ]
    },
    {
      "cell_type": "code",
      "execution_count": null,
      "metadata": {
        "id": "817EvyL5FjON",
        "outputId": "2c346fb5-1947-4c54-a041-88033b6d40ff"
      },
      "outputs": [
        {
          "name": "stdout",
          "output_type": "stream",
          "text": [
            "<__main__.Gruszka object at 0x7f9e48a98f98>\n"
          ]
        }
      ],
      "source": [
        "print(gruszka3)"
      ]
    },
    {
      "cell_type": "markdown",
      "metadata": {
        "id": "UXpikQsrFjON"
      },
      "source": [
        "zupełnie jak"
      ]
    },
    {
      "cell_type": "code",
      "execution_count": null,
      "metadata": {
        "id": "7_ZAu138FjON",
        "outputId": "3421e634-5cef-4b4b-e293-f1cbb7bf7577"
      },
      "outputs": [
        {
          "data": {
            "text/plain": [
              "'<__main__.Gruszka object at 0x7f9e48a98f98>'"
            ]
          },
          "execution_count": 16,
          "metadata": {},
          "output_type": "execute_result"
        }
      ],
      "source": [
        "str(gruszka3)"
      ]
    },
    {
      "cell_type": "markdown",
      "metadata": {
        "id": "0x8B54gQFjON"
      },
      "source": [
        "dostaniemy informacje o obiekcie (jak wyżej), choć mało czytelne. Aby czytelne się stały musimy zaprogramować własną funkcję specjalnę \n",
        "\n",
        "```\n",
        "def __str__(self):\n",
        "    return 'jakiś string'\n",
        "```\n",
        "\n",
        "bo tej właśnie obie funkcje wyszukują w obiekcie. **Musi** ona **zwracać** ciąg znaków."
      ]
    },
    {
      "cell_type": "code",
      "execution_count": null,
      "metadata": {
        "id": "-_3txNjsFjON"
      },
      "outputs": [],
      "source": [
        "class Gruszka:\n",
        "    '''\n",
        "    Obiekt Gruszka opisuje nam wlasnosci gruszek.\n",
        "    \n",
        "    Dzieki obiektom Gruszka można skatalogować gruszki z naszego ogrodu.\n",
        "    Aby poprawnie opisać gruszki, trzeba podać ich odmianę (str),\n",
        "    wagę (num) oraz smak (str).\n",
        "\n",
        "    Args:\n",
        "        odmiana (str): trzyma odmiane owocu \n",
        "        waga (num): trzyma wage gruszek\n",
        "        smak (str): opisuje smak gruszek (slodki, kwasny, itd.)\n",
        "\n",
        "    Attributes:\n",
        "        odmiana: tu przechowujemy informacje o odmianie \n",
        "        waga: tu przechowujemy informacje o wadze\n",
        "        smak: tu przechowujemy informacje o smaku\n",
        "    '''\n",
        "    \n",
        "    def __init__(self, odmiana, waga, smak):\n",
        "        self.odmiana = odmiana\n",
        "        self.waga = waga\n",
        "        self.smak = smak\n",
        "        \n",
        "    def get_waga(self):\n",
        "        return self.waga\n",
        "    \n",
        "    def get_odmiana(self):\n",
        "        return self.odmiana\n",
        "    \n",
        "    def get_smak(self):\n",
        "        return self.smak\n",
        "    \n",
        "    def set_waga(self, x):\n",
        "        if isinstance(x, (int, float)):\n",
        "            self.waga = x\n",
        "        else:\n",
        "            raise TypeError(\"Waga powinna byc liczba INT lub FLOAT\")\n",
        "    \n",
        "    def set_odmiana(self, x):\n",
        "        if isinstance(x, str):\n",
        "            self.odmiana = x\n",
        "        else:\n",
        "            raise TypeError(\"Zmienna odmiana powinna byc lancuchem znakow STR\")\n",
        "    \n",
        "    def set_smak(self, x):\n",
        "        if isinstance(x, str):\n",
        "            self.smak = x\n",
        "        else:\n",
        "            raise TypeError(\"Zmienna smak powinna byc lancuchem znakow STR\")\n",
        "    \n",
        "    def __str__(self):\n",
        "        return f'Gruszka odmiany {self.get_odmiana()}, w smaku {self.get_smak()}, o wadze {self.get_waga()} gram'"
      ]
    },
    {
      "cell_type": "code",
      "execution_count": null,
      "metadata": {
        "id": "Asl-J0mKFjOO",
        "outputId": "c130e3ea-ac36-4b71-e70e-a7b1c414d06f"
      },
      "outputs": [
        {
          "name": "stdout",
          "output_type": "stream",
          "text": [
            "Gruszka odmiany Lipcówka kolorowa, w smaku slodka, o wadze 172 gram\n"
          ]
        }
      ],
      "source": [
        "# instancjonowanie\n",
        "gruszka4 = Gruszka('Lipcówka kolorowa', 172, 'slodka')\n",
        "print(gruszka4)"
      ]
    },
    {
      "cell_type": "markdown",
      "metadata": {
        "id": "Mg1GTpJ0FjOO"
      },
      "source": [
        "### `__repr__`\n",
        "Podobnie budujemy funkcje specjalną `__repr__` zwracającą ciąg znaków, reprezentujący obiekt w konsoli."
      ]
    },
    {
      "cell_type": "code",
      "execution_count": null,
      "metadata": {
        "id": "57pbVvXTFjOO",
        "outputId": "7e400399-e940-4339-fbac-57c0b249e83c"
      },
      "outputs": [
        {
          "data": {
            "text/plain": [
              "<__main__.Gruszka at 0x7f9e48a30588>"
            ]
          },
          "execution_count": 35,
          "metadata": {},
          "output_type": "execute_result"
        }
      ],
      "source": [
        "gruszka4"
      ]
    },
    {
      "cell_type": "code",
      "execution_count": null,
      "metadata": {
        "id": "H7hQDjCcFjOO"
      },
      "outputs": [],
      "source": [
        "class Gruszka:\n",
        "    '''\n",
        "    Obiekt Gruszka opisuje nam wlasnosci gruszek.\n",
        "\n",
        "    Args:\n",
        "        odmiana (str): trzyma odmiane owocu \n",
        "        waga (num): trzyma wage gruszek\n",
        "        smak (str): opisuje smak gruszek (slodki, kwasny, itd.)\n",
        "\n",
        "    Attributes:\n",
        "        odmiana: tu przechowujemy informacje o odmianie \n",
        "        waga: tu przechowujemy informacje o wadze\n",
        "        smak: tu przechowujemy informacje o smaku\n",
        "    '''\n",
        "    \n",
        "    def __init__(self, odmiana, waga, smak):\n",
        "        self.odmiana = odmiana\n",
        "        self.waga = waga\n",
        "        self.smak = smak\n",
        "        \n",
        "    def get_waga(self):\n",
        "        return self.waga\n",
        "    \n",
        "    def get_odmiana(self):\n",
        "        return self.odmiana\n",
        "    \n",
        "    def get_smak(self):\n",
        "        return self.smak\n",
        "    \n",
        "    def set_waga(self, x):\n",
        "        if isinstance(x, (int, float)):\n",
        "            self.waga = x\n",
        "        else:\n",
        "            raise TypeError(\"Waga powinna byc liczba INT lub FLOAT\")\n",
        "    \n",
        "    def set_odmiana(self, x):\n",
        "        if isinstance(x, str):\n",
        "            self.odmiana = x\n",
        "        else:\n",
        "            raise TypeError(\"Zmienna odmiana powinna byc lancuchem znakow STR\")\n",
        "    \n",
        "    def set_smak(self, x):\n",
        "        if isinstance(x, str):\n",
        "            self.smak = x\n",
        "        else:\n",
        "            raise TypeError(\"Zmienna smak powinna byc lancuchem znakow STR\")\n",
        "    \n",
        "    def __str__(self):\n",
        "        return f'Gruszka odmiany {self.get_odmiana()}, w smaku {self.get_smak()}, o wadze {self.get_waga()} gram'\n",
        "    \n",
        "    def __repr__(self):\n",
        "        return f'Gruszka: {self.get_odmiana()}, smak: {self.get_smak()}, waga: {self.get_waga()} gram'"
      ]
    },
    {
      "cell_type": "code",
      "execution_count": null,
      "metadata": {
        "id": "ad6SNNguFjOP",
        "outputId": "43500688-ac10-43f5-adf3-4221b216dfb6"
      },
      "outputs": [
        {
          "data": {
            "text/plain": [
              "Gruszka: Bonkreta Williamsa, smak: nieziemsko slodka, waga: 222 gram"
            ]
          },
          "execution_count": 18,
          "metadata": {},
          "output_type": "execute_result"
        }
      ],
      "source": [
        "# instancjonowanie\n",
        "gruszka5 = Gruszka('Bonkreta Williamsa', 222, 'nieziemsko slodka')\n",
        "gruszka5"
      ]
    },
    {
      "cell_type": "code",
      "execution_count": null,
      "metadata": {
        "id": "EGsLNwC7FjOP"
      },
      "outputs": [],
      "source": []
    },
    {
      "cell_type": "markdown",
      "metadata": {
        "id": "02bCA2QPFjOP"
      },
      "source": [
        "### Ćwiczenie 3\n",
        "Zaimplementuj klasę. Każda instancja powinna mieć trzy dowolne atrybuty. Dopisz docstring. Dodaj gettery i settery. Zbuduj `__str__` i `__repr__`.\n",
        "\n",
        "Student 1 wymyśla dla studenta 2 jaki obiekt ma opisać klasa, student 2 dla 3, student 3 dla 4, ..., i w końcu student N dla studenta 1.\n"
      ]
    },
    {
      "cell_type": "code",
      "execution_count": null,
      "metadata": {
        "id": "YyK_QQtmFjOP"
      },
      "outputs": [],
      "source": []
    },
    {
      "cell_type": "markdown",
      "metadata": {
        "id": "_2LBmV3FFjOP"
      },
      "source": [
        "### Ćwiczenie 4\n",
        "W parach, zaprogramuj klasy: doc/get/set/str/repr + 3 dowolne modyfikatory.\n",
        "\n",
        "1. `Krowa`\n",
        "2. `Kaczka`\n",
        "3. `Owca`\n",
        "4. `Lama`\n",
        "5. `Pajak`\n",
        "6. `Nietoperz`"
      ]
    },
    {
      "cell_type": "code",
      "execution_count": null,
      "metadata": {
        "id": "KZkmxBauFjOP"
      },
      "outputs": [],
      "source": []
    },
    {
      "cell_type": "code",
      "execution_count": null,
      "metadata": {
        "id": "OVGksrWJFjOP"
      },
      "outputs": [],
      "source": []
    },
    {
      "cell_type": "code",
      "execution_count": null,
      "metadata": {
        "id": "d059HdKVFjOP"
      },
      "outputs": [],
      "source": []
    },
    {
      "cell_type": "markdown",
      "metadata": {
        "id": "8Zcy2XmzFjOP"
      },
      "source": [
        "# Studium przypadku 2 - Rakieta"
      ]
    },
    {
      "cell_type": "markdown",
      "metadata": {
        "id": "0JSfGQmsFjOP"
      },
      "source": [
        "### `Rakieta`\n",
        "Wracamy do klasy `Rakieta`. Może ona robić różne rzeczy, ale przede wszystkim jest obiektem latającym. Może mieć kilka ciekawych i typowych dla rakiet atrybutów: waga, ilość paliwa, położenie, prędkość... Pewnie i więcej, ale proszę sobie wyobrazić coś takiego:\n",
        "\n",
        "```\n",
        " ∧\n",
        " |\n",
        " |               ∧\n",
        " |              / \\\n",
        "y|--------------|o|  pozycja = (x, y)\n",
        " |              | |\n",
        " |               ᚄ\n",
        " |               |\n",
        " |               |\n",
        " +-------------------------->\n",
        "                 x\n",
        "```\n",
        "\n",
        "Zapomnimy o większości problemów z rakietami i ograniczymy się do latania rakietą. Będziemy po prostu opisywać, jak na obrazku powyżej położenie rakiety w układzie kartezjańskim. \n",
        "\n",
        "### 2.1. Zaczniemy krok po kroku, od najprostszej realizacji klasy Rakieta"
      ]
    },
    {
      "cell_type": "code",
      "execution_count": null,
      "metadata": {
        "id": "zV6ncWrtFjOQ",
        "outputId": "651a637c-b170-4701-bb17-4c71584e6962"
      },
      "outputs": [
        {
          "name": "stdout",
          "output_type": "stream",
          "text": [
            "Rakieta w pozycji (0, 0)\n"
          ]
        }
      ],
      "source": [
        "class Rakieta:\n",
        "    def __init__(self, pozycja=(0, 0)):\n",
        "        self.pozycja = pozycja\n",
        "        \n",
        "    def get_pozycja(self):\n",
        "        return self.pozycja\n",
        "    \n",
        "    def set_pozycja(self, var):\n",
        "        'ustaw var jako nowa wartość pozycja'\n",
        "        self.pozycja = var\n",
        "    \n",
        "    def __repr__(self):\n",
        "        return f'Rakieta w pozycji {self.get_pozycja()}'\n",
        "    \n",
        "    def __str__(self):\n",
        "        return self.__repr__()\n",
        "    \n",
        "    \n",
        "r = Rakieta()\n",
        "print(r)"
      ]
    },
    {
      "cell_type": "markdown",
      "metadata": {
        "id": "uCiuXF8EFjOQ"
      },
      "source": [
        "### Ćwiczenie 2.1\n",
        "Na bazie klasy `Rakieta` zbuduj klasę (każdy student inną).\n",
        "\n",
        "1. `Bocian`\n",
        "2. `Kruk`\n",
        "3. `Czapla`\n",
        "4. `Koliber`\n",
        "5. `Papuga`\n",
        "6. `Kawka`\n",
        "7. ...\n",
        "\n",
        "Takie klasy też będą latać, jak powyższa rakieta. Dodaj 1 parametr do `__init__` wyróżniający swoją klasę np: kolor, wagę. Przypisz go do atrybutu instancji (`self`), dodaj setter i getter."
      ]
    },
    {
      "cell_type": "code",
      "execution_count": null,
      "metadata": {
        "id": "SJOkxdVSFjOQ"
      },
      "outputs": [],
      "source": []
    },
    {
      "cell_type": "markdown",
      "metadata": {
        "id": "QrqgBOgOFjOQ"
      },
      "source": [
        "### 2.2. Settery defensywne\n",
        "Settery możemy wykorzystywać do nieco innych rzeczy niż proste ustawianie wartości atrybutów instancji, np: do sprawdzania, że użytkownik podaje poprawne dane. Na przykład"
      ]
    },
    {
      "cell_type": "code",
      "execution_count": null,
      "metadata": {
        "id": "-N0-bUsgFjOQ",
        "outputId": "41b4e466-c299-43d5-bacf-4b6cf094a6e9"
      },
      "outputs": [
        {
          "name": "stdout",
          "output_type": "stream",
          "text": [
            "Rakieta w pozycji (0, 0)\n"
          ]
        }
      ],
      "source": [
        "class Rakieta:\n",
        "    def __init__(self, pozycja=(0, 0)):\n",
        "        self.pozycja = pozycja\n",
        "        \n",
        "    def get_pozycja(self):\n",
        "        return self.pozycja\n",
        "    \n",
        "    def set_pozycja(self, var):\n",
        "        assert isinstance(var, (tuple, list)), 'pozycja powinna być listą/krotką'\n",
        "        assert len(var) == 2, 'pozycja powinna mieć 2 elementy'\n",
        "        assert all([isinstance(el, (int, float)) for el in var]), 'elementy pozycja powinna być liczbami'\n",
        "        assert var[1] >= 0, 'drugi element pozycji powinien być nieujemny'\n",
        "        self.pozycja = var\n",
        "    \n",
        "    def __repr__(self):\n",
        "        return f'Rakieta w pozycji {self.get_pozycja()}'\n",
        "    \n",
        "    def __str__(self):\n",
        "        return self.__repr__()\n",
        "    \n",
        "    \n",
        "r = Rakieta()\n",
        "print(r)"
      ]
    },
    {
      "cell_type": "markdown",
      "metadata": {
        "id": "8DitfFBVFjOQ"
      },
      "source": [
        "### Ćwiczenie 2.2\n",
        "Zmodyfikuj settery swojej klasy w podobny sposób do powyższego."
      ]
    },
    {
      "cell_type": "code",
      "execution_count": null,
      "metadata": {
        "id": "t3Ii-aVRFjOQ"
      },
      "outputs": [],
      "source": []
    },
    {
      "cell_type": "markdown",
      "metadata": {
        "id": "RAgTeDe3FjOR"
      },
      "source": [
        "### 2.3. Setter w `__init__`\n",
        "Skoro nasz setter sprawdza czy z wielkością jaką chcemy ustawić dla danego atrybutu wszystko jest OK, możemy ją użyć też do inicjalizacji instancji"
      ]
    },
    {
      "cell_type": "code",
      "execution_count": null,
      "metadata": {
        "id": "ggxihkddFjOR"
      },
      "outputs": [],
      "source": [
        "class Rakieta:\n",
        "    def __init__(self, pozycja=(0, 0)):\n",
        "        self.set_pozycja(pozycja)\n",
        "        \n",
        "    def get_pozycja(self):\n",
        "        return self.pozycja\n",
        "    \n",
        "    def set_pozycja(self, var):\n",
        "        assert isinstance(var, (tuple, list)), 'pozycja powinna być listą/krotką'\n",
        "        assert len(var) == 2, 'pozycja powinna mieć 2 elementy'\n",
        "        assert all([isinstance(el, (int, float)) for el in var]), 'elementy pozycja powinna być liczbami'\n",
        "        assert var[1] >= 0, 'drugi element pozycji powinien być nieujemny'\n",
        "        self.pozycja = var\n",
        "    \n",
        "    def __repr__(self):\n",
        "        return f'Rakieta w pozycji {self.get_pozycja()}'\n",
        "    \n",
        "    def __str__(self):\n",
        "        return self.__repr__()\n",
        "    "
      ]
    },
    {
      "cell_type": "code",
      "execution_count": null,
      "metadata": {
        "id": "Mi95RmcJFjOR",
        "outputId": "4a5c98fc-eeec-42ad-85bc-d42dcc733972"
      },
      "outputs": [
        {
          "name": "stdout",
          "output_type": "stream",
          "text": [
            "Rakieta w pozycji (1, 2)\n"
          ]
        }
      ],
      "source": [
        "r = Rakieta((1, 2))\n",
        "print(r)"
      ]
    },
    {
      "cell_type": "code",
      "execution_count": null,
      "metadata": {
        "id": "lfdv4fMPFjOR",
        "outputId": "1ac8b8e7-210d-4a17-b083-635385adf858"
      },
      "outputs": [
        {
          "name": "stdout",
          "output_type": "stream",
          "text": [
            "pozycja powinna być listą/krotką\n"
          ]
        }
      ],
      "source": [
        "try:\n",
        "    r1 = Rakieta('ala')\n",
        "except AssertionError as e:\n",
        "    print(e)"
      ]
    },
    {
      "cell_type": "code",
      "execution_count": null,
      "metadata": {
        "id": "tEKKPc9lFjOR",
        "outputId": "970ad94d-0eb1-4766-817a-078dbec2c3fe"
      },
      "outputs": [
        {
          "name": "stdout",
          "output_type": "stream",
          "text": [
            "pozycja powinna mieć 2 elementy\n"
          ]
        }
      ],
      "source": [
        "try:\n",
        "    r1 = Rakieta((0, 1, 2))\n",
        "except AssertionError as e:\n",
        "    print(e)"
      ]
    },
    {
      "cell_type": "markdown",
      "metadata": {
        "id": "XkBfjT9SFjOR"
      },
      "source": [
        "### Ćwiczenie 2.3\n",
        "Zmodyfikuj `__init__` swojej klasy w podobny sposób do powyższego dla obu atrybutów."
      ]
    },
    {
      "cell_type": "code",
      "execution_count": null,
      "metadata": {
        "id": "8wnvJb2mFjOR"
      },
      "outputs": [],
      "source": []
    },
    {
      "cell_type": "markdown",
      "metadata": {
        "id": "gAr2nQ63FjOR"
      },
      "source": [
        "### 2.4. Funkcje klas\n",
        "\n",
        "Niektóre własności obiektów nie muszą być związane z instancjami. Np: sprawdzanie czy `pozycja` jest dwuelementową listą o elementach liczbowych nie musi być specyficzne dla instancji (taką funkcją możemy sprawdzać dowolne *inne* dwuelementowe listy o wartośćiach liczbowych). Dlatego możemy taką funkcjonalność zbudować jako funkcję specyficzną dla klasy. \n",
        "Dla takich funkcji pierwszym parametrem nie będzie `self`."
      ]
    },
    {
      "cell_type": "code",
      "execution_count": null,
      "metadata": {
        "id": "xSd655kmFjOS",
        "outputId": "0b5c6b7f-5ea4-414a-e110-dc566e3e657b"
      },
      "outputs": [
        {
          "name": "stdout",
          "output_type": "stream",
          "text": [
            "Rakieta w pozycji (0, 0)\n"
          ]
        }
      ],
      "source": [
        "class Rakieta:\n",
        "    def __init__(self, pozycja=(0, 0)):\n",
        "        self.set_pozycja(pozycja)\n",
        "        \n",
        "    def sprawdz_pozycje(pozycja):  # nie ma self!\n",
        "        assert isinstance(pozycja, (tuple, list)), 'pozycja powinna być listą/krotką'\n",
        "        assert len(pozycja) == 2, 'pozycja powinna mieć 2 elementy'\n",
        "        assert all([isinstance(el, (int, float)) for el in pozycja]), 'elementy pozycja powinna być liczbami'\n",
        "        assert pozycja[1] >= 0, 'drugi element pozycji powinien być nieujemny'\n",
        "        \n",
        "    def get_pozycja(self):\n",
        "        return self.pozycja\n",
        "    \n",
        "    def set_pozycja(self, var):\n",
        "        Rakieta.sprawdz_pozycje(var)  # lub __class__.sprawdz_pozycje(var)\n",
        "        self.pozycja = var\n",
        "    \n",
        "    def __repr__(self):\n",
        "        return f'Rakieta w pozycji {self.get_pozycja()}'\n",
        "    \n",
        "    def __str__(self):\n",
        "        return self.__repr__()\n",
        "    \n",
        "    \n",
        "r = Rakieta()\n",
        "print(r)"
      ]
    },
    {
      "cell_type": "code",
      "execution_count": null,
      "metadata": {
        "id": "jpsHoQnPFjOS"
      },
      "outputs": [],
      "source": []
    },
    {
      "cell_type": "code",
      "execution_count": null,
      "metadata": {
        "id": "5MAUEulLFjOS",
        "outputId": "efcd24bc-1f67-4c9a-b75d-79037415c997"
      },
      "outputs": [
        {
          "name": "stdout",
          "output_type": "stream",
          "text": [
            "pozycja powinna być listą/krotką\n"
          ]
        }
      ],
      "source": [
        "try:\n",
        "    r1 = Rakieta('ala')\n",
        "except AssertionError as e:\n",
        "    print(e)"
      ]
    },
    {
      "cell_type": "code",
      "execution_count": null,
      "metadata": {
        "id": "CiszDhh3FjOS",
        "outputId": "e27c5bee-b854-4829-8c87-ba9b213a1f87"
      },
      "outputs": [
        {
          "name": "stdout",
          "output_type": "stream",
          "text": [
            "pozycja powinna mieć 2 elementy\n"
          ]
        }
      ],
      "source": [
        "try:\n",
        "    r1 = Rakieta((0, 1, 2))\n",
        "except AssertionError as e:\n",
        "    print(e)"
      ]
    },
    {
      "cell_type": "markdown",
      "metadata": {
        "id": "c-B4GVkdFjOS"
      },
      "source": [
        "### Ćwiczenie 2.4\n",
        "Dopisz funkcje klas `sprawdz_AAA` dla atrybutów klasy. Wykorzystaj odwołanie `__class__.sprawdz_AAA` w setterach."
      ]
    },
    {
      "cell_type": "code",
      "execution_count": null,
      "metadata": {
        "id": "yZDd3DNLFjOT"
      },
      "outputs": [],
      "source": []
    },
    {
      "cell_type": "markdown",
      "metadata": {
        "id": "BfN-Cag9FjOT"
      },
      "source": [
        "### 2.4. Modyfikacje stanu instancji\n",
        "\n",
        "Jak przemieścić rakietę? Warto na początku zaprogramować najpierw ogólną funkcję (abstrakcja!)\n",
        "```\n",
        "def przesun_rakiete(self, przesuniecie):\n",
        "    x, y = self.get_pozycja()  # czytaj obecną pozycję\n",
        "    dx, dy = przesuniecie  # przesuniecie\n",
        "    nowa_pozycja = (x + dx, y + dy)  # ustaw nową pozycję\n",
        "    self.set_pozycja(nowa_pozycja)\n",
        "``` \n",
        "\n",
        "a później mając już taką funkcję korzystać z niej przy przestawianiu rakiety w lewo-prawo-górę-dół"
      ]
    },
    {
      "cell_type": "code",
      "execution_count": null,
      "metadata": {
        "id": "Z1cTfDwdFjOT"
      },
      "outputs": [],
      "source": [
        "class Rakieta:\n",
        "    def __init__(self, pozycja=(0, 0)):\n",
        "        self.set_pozycja(pozycja)\n",
        "        \n",
        "    def sprawdz_pozycje(pozycja):\n",
        "        assert isinstance(pozycja, (tuple, list)), 'pozycja powinna być listą/krotką'\n",
        "        assert len(pozycja) == 2, 'pozycja powinna mieć 2 elementy'\n",
        "        assert all([isinstance(el, (int, float)) for el in pozycja]), 'elementy pozycja powinna być liczbami'\n",
        "        assert pozycja[1] >= 0, 'drugi element pozycji powinien być nieujemny'\n",
        "        \n",
        "    def get_pozycja(self):\n",
        "        return self.pozycja\n",
        "    \n",
        "    def set_pozycja(self, var):\n",
        "        __class__.sprawdz_pozycje(var)\n",
        "        self.pozycja = var\n",
        "        \n",
        "    def przesun_rakiete(self, przesuniecie):\n",
        "        x, y = self.get_pozycja()  # czytaj obecną pozycję\n",
        "        dx, dy = przesuniecie  # przesuniecie\n",
        "        nowa_pozycja = (x + dx, y + dy)  # ustaw nową pozycję\n",
        "        self.set_pozycja(nowa_pozycja)\n",
        "    \n",
        "    def __repr__(self):\n",
        "        return f'Rakieta w pozycji {self.get_pozycja()}'\n",
        "    \n",
        "    def __str__(self):\n",
        "        return self.__repr__()"
      ]
    },
    {
      "cell_type": "code",
      "execution_count": null,
      "metadata": {
        "id": "m5nzjUvKFjOT",
        "outputId": "326f7021-421a-48f1-bcb4-b896ee710b72"
      },
      "outputs": [
        {
          "name": "stdout",
          "output_type": "stream",
          "text": [
            "Rakieta w pozycji (0, 0)\n",
            "Rakieta w pozycji (1, 1)\n",
            "Rakieta w pozycji (0, 2)\n"
          ]
        }
      ],
      "source": [
        "r = Rakieta()\n",
        "print(r)\n",
        "\n",
        "r.przesun_rakiete((1, 1))\n",
        "print(r)\n",
        "\n",
        "r.przesun_rakiete((-1, 1))\n",
        "print(r)"
      ]
    },
    {
      "cell_type": "markdown",
      "metadata": {
        "id": "E5rx0t-3FjOT"
      },
      "source": [
        "### Ćwiczenie 2.4\n",
        "Dopisz lekko abstrakcyjną funkcję `lataj(self, ruch)` do swojej ptasiej klasy."
      ]
    },
    {
      "cell_type": "code",
      "execution_count": null,
      "metadata": {
        "id": "2RxCODiVFjOT"
      },
      "outputs": [],
      "source": []
    },
    {
      "cell_type": "markdown",
      "metadata": {
        "id": "Q1WU357pFjOT"
      },
      "source": [
        "### 2.5. Inne modyfikacje\n",
        "Wykorzystanie abstrakcyjnej funkcji `przesun_rakiete` do sterowania rakietą. Zbudujemy 4 funkcje `w_gore`, `w_dol`, `w_prawo` i `w_lewo`."
      ]
    },
    {
      "cell_type": "code",
      "execution_count": null,
      "metadata": {
        "id": "x9JuJM-RFjOT"
      },
      "outputs": [],
      "source": [
        "class Rakieta:\n",
        "    def __init__(self, pozycja=(0, 0)):\n",
        "        self.set_pozycja(pozycja)\n",
        "        \n",
        "    def sprawdz_pozycje(pozycja):\n",
        "        assert isinstance(pozycja, (tuple, list)), 'pozycja powinna być listą/krotką'\n",
        "        assert len(pozycja) == 2, 'pozycja powinna mieć 2 elementy'\n",
        "        assert all([isinstance(el, (int, float)) for el in pozycja]), 'elementy pozycja powinna być liczbami'\n",
        "        assert pozycja[1] >= 0, 'drugi element pozycji powinien być nieujemny'\n",
        "        \n",
        "    def get_pozycja(self):\n",
        "        return self.pozycja\n",
        "    \n",
        "    def set_pozycja(self, var):\n",
        "        __class__.sprawdz_pozycje(var)\n",
        "        self.pozycja = var\n",
        "        \n",
        "    def przesun_rakiete(self, przesuniecie):\n",
        "        x, y = self.get_pozycja()  # czytaj obecną pozycję\n",
        "        dx, dy = przesuniecie  # przesuniecie\n",
        "        nowa_pozycja = (x + dx, y + dy)  # ustaw nową pozycję\n",
        "        self.set_pozycja(nowa_pozycja)\n",
        "        \n",
        "    def w_gore(self, var):\n",
        "        self.przesun_rakiete((0, var))\n",
        "    \n",
        "    def __repr__(self):\n",
        "        return f'Rakieta w pozycji {self.get_pozycja()}'\n",
        "    \n",
        "    def __str__(self):\n",
        "        return self.__repr__()"
      ]
    },
    {
      "cell_type": "code",
      "execution_count": null,
      "metadata": {
        "id": "3k8F0G6FFjOU",
        "outputId": "b924aea5-f20f-4246-9a7d-ac0f22f01992"
      },
      "outputs": [
        {
          "name": "stdout",
          "output_type": "stream",
          "text": [
            "Rakieta w pozycji (0, 0)\n",
            "Rakieta w pozycji (0, 4)\n"
          ]
        }
      ],
      "source": [
        "r = Rakieta()\n",
        "print(r)\n",
        "\n",
        "r.w_gore(4)\n",
        "print(r)"
      ]
    },
    {
      "cell_type": "code",
      "execution_count": null,
      "metadata": {
        "id": "Duwslb3KFjOU"
      },
      "outputs": [],
      "source": []
    },
    {
      "cell_type": "markdown",
      "metadata": {
        "id": "UjFgznAbFjOU"
      },
      "source": [
        "### Ćwiczenie 2.5\n",
        "Dopisz resztę funkcji: `w_dol`, `w_prawo` i `w_lewo`."
      ]
    },
    {
      "cell_type": "code",
      "execution_count": null,
      "metadata": {
        "id": "Lj4uY5-VFjOU"
      },
      "outputs": [],
      "source": []
    },
    {
      "cell_type": "code",
      "execution_count": null,
      "metadata": {
        "id": "zcnvnsupFjOU"
      },
      "outputs": [],
      "source": [
        "class Rakieta:\n",
        "    def __init__(self, pozycja=(0, 0)):\n",
        "        self.set_pozycja(pozycja)\n",
        "        \n",
        "    def sprawdz_pozycje(pozycja):\n",
        "        assert isinstance(pozycja, (tuple, list)), 'pozycja powinna być listą/krotką'\n",
        "        assert len(pozycja) == 2, 'pozycja powinna mieć 2 elementy'\n",
        "        assert all([isinstance(el, (int, float)) for el in pozycja]), 'elementy pozycja powinna być liczbami'\n",
        "        assert pozycja[1] >= 0, 'drugi element pozycji powinien być nieujemny'\n",
        "        \n",
        "    def get_pozycja(self):\n",
        "        return self.pozycja\n",
        "    \n",
        "    def set_pozycja(self, var):\n",
        "        __class__.sprawdz_pozycje(var)\n",
        "        self.pozycja = var\n",
        "        \n",
        "    def przesun_rakiete(self, przesuniecie):\n",
        "        x, y = self.get_pozycja()  # czytaj obecną pozycję\n",
        "        dx, dy = przesuniecie  # przesuniecie\n",
        "        nowa_pozycja = (x + dx, y + dy)  # ustaw nową pozycję\n",
        "        self.set_pozycja(nowa_pozycja)\n",
        "        \n",
        "    def w_gore(self, var):\n",
        "        self.przesun_rakiete((0, var))\n",
        "    \n",
        "    def w_dol(self, var):\n",
        "        self.przesun_rakiete((0, -var))\n",
        "        \n",
        "    def w_prawo(self, var):\n",
        "        self.przesun_rakiete((var, 0))\n",
        "        \n",
        "    def w_lewo(self, var):\n",
        "        self.przesun_rakiete((-var, 0))\n",
        "        \n",
        "    def laduj(self):\n",
        "        x, y = self.get_pozycja()\n",
        "        self.set_pozycja((x, 0))\n",
        "    \n",
        "    def __repr__(self):\n",
        "        return f'Rakieta w pozycji {self.get_pozycja()}'\n",
        "    \n",
        "    def __str__(self):\n",
        "        return self.__repr__()"
      ]
    },
    {
      "cell_type": "markdown",
      "metadata": {
        "id": "-qyMYU_fFjOU"
      },
      "source": [
        "### 2.6. Latamy rakietą"
      ]
    },
    {
      "cell_type": "code",
      "execution_count": null,
      "metadata": {
        "id": "c_9tZJBFFjOU",
        "outputId": "ff104fce-f8f7-4b7b-d119-7fe332e1edd4"
      },
      "outputs": [
        {
          "name": "stdout",
          "output_type": "stream",
          "text": [
            "[(0, 0), (0, 10), (7, 7), (2, 12), (-39, 12), (-122, 16), (-205, 11), (-221, 18), (-220, 25), (-242, 28), (-220, 18), (-213, 11), (-213, 0)]\n"
          ]
        },
        {
          "data": {
            "text/plain": [
              "[<matplotlib.lines.Line2D at 0x7f6e02368e10>]"
            ]
          },
          "execution_count": 6,
          "metadata": {},
          "output_type": "execute_result"
        },
        {
          "data": {
            "image/png": "[encoded data removed]",
            "text/plain": [
              "<Figure size 432x288 with 1 Axes>"
            ]
          },
          "metadata": {
            "needs_background": "light"
          },
          "output_type": "display_data"
        }
      ],
      "source": [
        "import random\n",
        "\n",
        "rakieta = Rakieta()\n",
        "pozycja = []\n",
        "pozycja.append(rakieta.get_pozycja())\n",
        "\n",
        "# start pionowy\n",
        "rakieta.w_gore(10)\n",
        "pozycja.append(rakieta.get_pozycja())\n",
        "\n",
        "ilosc_skokow = 10\n",
        "for i in range(ilosc_skokow):\n",
        "    # góra czy dół?\n",
        "    dy = random.randint(0, 10)\n",
        "    if random.random() > 0.5:\n",
        "        rakieta.w_gore(dy)\n",
        "    else:\n",
        "        try:\n",
        "            rakieta.w_dol(dy)\n",
        "        except:\n",
        "            pass\n",
        "    \n",
        "    # lewo czy prawo?\n",
        "    dx = random.randint(0, 100)\n",
        "    if random.random() > 0.5:\n",
        "        rakieta.w_prawo(dx)\n",
        "    else:\n",
        "        rakieta.w_lewo(dx)\n",
        "    \n",
        "    pozycja.append(rakieta.get_pozycja())\n",
        "    \n",
        "#lądujemy\n",
        "rakieta.laduj()\n",
        "pozycja.append(rakieta.get_pozycja())\n",
        "print(pozycja)\n",
        "\n",
        "### Odkomentuj jeżeli chcesz zobaczyć jak latała rakieta...\n",
        "import pylab\n",
        "%matplotlib inline\n",
        "x, y = zip(*pozycja)\n",
        "pylab.plot(x, y, '*-')\n",
        "pylab.plot(x[:1], y[:1], '^r', markersize=10)\n",
        "pylab.plot(x[-1:], y[-1:], 'vr', markersize=10)"
      ]
    },
    {
      "cell_type": "markdown",
      "metadata": {
        "id": "jdomBsjNFjOV"
      },
      "source": [
        "### Ćwiczenie 2.6\n",
        "Proszę dać ptakom polatać."
      ]
    },
    {
      "cell_type": "code",
      "execution_count": null,
      "metadata": {
        "id": "lujHWpEKFjOV"
      },
      "outputs": [],
      "source": []
    },
    {
      "cell_type": "markdown",
      "metadata": {
        "id": "fTIG3Vu1FjOV"
      },
      "source": [
        "**Jeżeli czytacie ten dokument sami:** \n",
        "Pora na zadania domowe PD0303 i PD0304. Proszę nie zapomnieć o zadaniu specjalnym PD03X."
      ]
    },
    {
      "cell_type": "code",
      "execution_count": null,
      "metadata": {
        "id": "T5M-ddJ5FjOV"
      },
      "outputs": [],
      "source": []
    }
  ],
  "metadata": {
    "kernelspec": {
      "display_name": "Python 3 (ipykernel)",
      "language": "python",
      "name": "python3"
    },
    "language_info": {
      "codemirror_mode": {
        "name": "ipython",
        "version": 3
      },
      "file_extension": ".py",
      "mimetype": "text/x-python",
      "name": "python",
      "nbconvert_exporter": "python",
      "pygments_lexer": "ipython3",
      "version": "3.9.5"
    },
    "colab": {
      "provenance": []
    }
  },
  "nbformat": 4,
  "nbformat_minor": 0
}
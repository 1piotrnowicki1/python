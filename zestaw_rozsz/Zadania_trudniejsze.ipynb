{
  "cells": [
    {
      "cell_type": "markdown",
      "metadata": {
        "id": "oXBSu-xlOclU"
      },
      "source": [
        "# Wstęp do programowania,  2022-2023\n",
        "## Kolokwium nr 1\n",
        "\n",
        "**Reguły**\n",
        "\n",
        "* prace są samodzielne, można korzystać ze swoich własnych kodów, wykładu, ćwiczeń, książek, manuali, dokumentacji, kursów, itp…\n",
        "* nie wolno korzystać z cudzych kodów na zasadzie copy-paste\n",
        "\n",
        "**Uwaga**\n",
        "\n",
        "   >Warto testować swoje kody. Brak testów to pierwszy krok do słabej / niezadowalającej oceny z kolokwium. Testować znaczy - po napisaniu programu (kodu) należy go kilkukrotnie uruchomić dla kilku różnych danych wejściowych.\n",
        "\n",
        "**Uwaga 2**\n",
        "   >Warto używać porządnych nazw zmiennych. "
      ]
    },
    {
      "cell_type": "code",
      "execution_count": null,
      "metadata": {
        "id": "YE3yBOdkOclZ"
      },
      "outputs": [],
      "source": []
    },
    {
      "cell_type": "markdown",
      "metadata": {
        "id": "D9DwHCZAOcla"
      },
      "source": [
        "## Zadanie   Suma [10]\n",
        "Oblicz sumę `s`. Użyj takich samych zmiennych jakie widzisz we wzorze poniżej. Użyj pętli `while`. W przypadku, gdy wzór podniesie jakiś wyjątek (błąd) użyj instrukcji warunkowej `if`, by pominąć daną liczbę w pętli.\n",
        "$$s = \\sum_{i=-10}^{10} \\frac{i}{i+1}$$\n",
        "Program powinien  drukować wartość licznika i sumę cześciową z dokładnością do 3 miejsc po przecinku. W przypadku błędu program generuje napis ------."
      ]
    },
    {
      "cell_type": "code",
      "execution_count": null,
      "metadata": {
        "id": "ZU1F6UABOclb"
      },
      "outputs": [],
      "source": [
        "# TUTAJ PROGRAMUJEMY"
      ]
    },
    {
      "cell_type": "markdown",
      "metadata": {
        "id": "i07vcM-2Oclc"
      },
      "source": [
        "## Zadanie  Imiona [15]\n",
        "Z podanych napisów wyłuskaj ukryte imiona. Indeks pierwszej litery imienia określa pierwsza występująca  w napisie cyfra, długość imienia określa druga cyfra w napisie. \n",
        "W wyniku imię powinno być wypisane dużą literą.\n",
        "Przykład napis=\"2aannaf4ase\"->Anna\n",
        "\n"
      ]
    },
    {
      "cell_type": "code",
      "execution_count": null,
      "metadata": {
        "id": "OtYgqcaBOcld"
      },
      "outputs": [],
      "source": [
        "# TUTAJ PROGRAMUJEMY\n",
        "napis='''32bedwinannapi\n",
        "2abenonanna3\n",
        "ann4benanna3anna\n",
        "ben4annaben4mania\n",
        "4n2bedwinannapi\n",
        "5bs2bedwinannapi\n",
        "6and2bedwinannapi\n",
        "7anan2bedwinannapi\n",
        "9steffa2bedwinannapi\n",
        "9aalaol2bedwinannapi\n",
        "3aabenonanna3zenon\n",
        "4olabenonanna3zenon\n",
        "5olaabenonanna3edwin\n",
        "6erykabenonanna3eryk\n",
        "7kevinabenonanna3eryk\n",
        "8kevinalbenonanna3eryk\n",
        "9kevinalabenonanna3eryk\n",
        "bena5annaben4mania\n",
        "benia6annaben4mania\n",
        "edmundd8annaben4mania\n",
        "edmunedd9annaben4mani'''"
      ]
    },
    {
      "cell_type": "markdown",
      "source": [
        "### Zadanie  Stwórz [15]\n",
        "\n",
        "[3 pkt] listę pierwiastków kwadratowych liczb od 0.0001 do 3.1415 co 0.0001\n",
        "\n",
        "[3 pkt] krotkę liczb parzystych od -20 do 44\n",
        "\n",
        "[3 pkt] ciąg znaków odwrotności nieparzystych liczb naturalnych od 1 do 99\n",
        "\n",
        "Oblicz sumy liczb zmagazynowanych w powyższych zbiorach danych [3  ×  2 pkt]."
      ],
      "metadata": {
        "id": "jusqR2KkWCkb"
      }
    },
    {
      "cell_type": "markdown",
      "metadata": {
        "id": "3lZujzRNOcld"
      },
      "source": [
        "## Zadanie Dzień tygodnia [15]\n",
        "Wiedząc, że 2022 roku 1 stycznia przypadał w sobotę podaj nazwę dnia tygodnia dla \n",
        "111\n",
        "dnia roku 2022. \n",
        "\n",
        "Wynik wypisz w postaci \n",
        "\"111 dzień tygodnia to ... do końca roku pozostało ... dni\""
      ]
    },
    {
      "cell_type": "code",
      "execution_count": null,
      "metadata": {
        "id": "C_t_-xS0Ocle"
      },
      "outputs": [],
      "source": [
        "# TUTAJ PROGRAMUJEMY"
      ]
    },
    {
      "cell_type": "markdown",
      "metadata": {
        "id": "ez25XGrnOclf"
      },
      "source": [
        "## Zadanie Lista [25]\n",
        "\n",
        "Napisz program, który oblicza sumę liczb w podanej liście `L` i zwracający informację (`print`)\n",
        "\n",
        "* `1` gdy suma liczb dodatnich listy `L` jest większa od wartości bezwzględnej sumy liczb ujemnych listy `L`\n",
        "* `-1` gdy wartość bezwzględna sumy liczb ujemnych listy `L` jest większa od sumy liczb dodatnich listy `L`\n",
        "* `0` gdy wartość bezwzględna sumy liczb ujemnych listy `L` jest równa sumie liczb dodatnich listy `L`\n",
        "\n",
        "Użyj pętli\n",
        "`for`\n",
        "(15 pkt)\n",
        "\n",
        "**Przykłady**\n",
        "\n",
        "    > L = [1, 2, 3, -4, -5] -->> -1\n",
        "    \n",
        "    > L = [1, 2, 3, -1, -2, -3] -->> 0\n",
        "    \n",
        "    > L = [1, 2, 3, -1, -2] -->> 1\n",
        "    \n",
        "**Uwaga**\n",
        "\n",
        "> ostatnie 10 punktów można zdobyć za **przefiltrowanie** elementów list podanych jako argumenty, tak by rozpatrywać **tylko liczby** w nich zawarte, np:\n",
        "\n",
        "    L = [1, 2, (19, 18), 'ala', 3, -4, -5] -->> [1, 2, 3, -4, -5] -->> -1"
      ]
    },
    {
      "cell_type": "code",
      "execution_count": null,
      "metadata": {
        "id": "EanzaSYKOclg"
      },
      "outputs": [],
      "source": [
        "# TUTAJ PROGRAMUJEMY\n"
      ]
    },
    {
      "cell_type": "code",
      "execution_count": null,
      "metadata": {
        "id": "qdxJFUciOcli"
      },
      "outputs": [],
      "source": [
        "# TUTAJ PROGRAMUJEMY"
      ]
    },
    {
      "cell_type": "markdown",
      "source": [
        "## Zadanie Hasła  [20]\n",
        "Większość serwisów oferuje obecnie tworzenie kont, do których to trzeba podać relatywnie silnie hasło, takie na które składa się\n",
        "\n",
        "przynajmniej 8 znaków, w tym:\n",
        "\n",
        "-  przynajmniej 1 duża litera\n",
        "-  przynajmniej 1 cyfra\n",
        "-  przynajmniej 1 znak specjalny (!@#%^&*()_+}{;:.,/?)\n",
        "\n",
        "Napisz program, który sprawdza czy hasło podane w zmiennej haslo spełnia powyższe założenia. Jeżeli spełnia to proszę poprawnie sformatować informację przekazaną funkcją print\n",
        "\n",
        "'haslo <hedh7@jA> jest poprawne'\n",
        "lub\n",
        "\n",
        "'haslo <hedh7@ja> jest niepoprawne'"
      ],
      "metadata": {
        "id": "YeZu-2K9SJqD"
      }
    },
    {
      "cell_type": "code",
      "source": [],
      "metadata": {
        "id": "ZU3Zv9R6VNH6"
      },
      "execution_count": null,
      "outputs": []
    }
  ],
  "metadata": {
    "kernelspec": {
      "display_name": "Python 3 (ipykernel)",
      "language": "python",
      "name": "python3"
    },
    "language_info": {
      "codemirror_mode": {
        "name": "ipython",
        "version": 3
      },
      "file_extension": ".py",
      "mimetype": "text/x-python",
      "name": "python",
      "nbconvert_exporter": "python",
      "pygments_lexer": "ipython3",
      "version": "3.9.5"
    },
    "colab": {
      "provenance": []
    }
  },
  "nbformat": 4,
  "nbformat_minor": 0
}